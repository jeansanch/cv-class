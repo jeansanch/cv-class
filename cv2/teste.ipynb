{
 "cells": [
  {
   "cell_type": "code",
   "execution_count": 16,
   "id": "6fdb7bba-17d5-496e-89b3-528fa568572f",
   "metadata": {
    "tags": []
   },
   "outputs": [],
   "source": [
    "import cv2\n",
    "import numpy as np\n",
    "import glob"
   ]
  },
  {
   "cell_type": "code",
   "execution_count": 17,
   "id": "8ee012f2-ade0-4e48-ac05-48b560e9e6d0",
   "metadata": {
    "tags": []
   },
   "outputs": [],
   "source": [
    "pattern_size = (10, 7) # number of inner corners"
   ]
  },
  {
   "cell_type": "code",
   "execution_count": 32,
   "id": "530b0bf6-f9ea-4cb0-875a-8450abdff258",
   "metadata": {
    "tags": []
   },
   "outputs": [
    {
     "name": "stdout",
     "output_type": "stream",
     "text": [
      "Camera Matrix:\n",
      "[[603.88914335   0.         328.23822976]\n",
      " [  0.         603.67911565 233.89796492]\n",
      " [  0.           0.           1.        ]]\n",
      "Distortion Coefficients:\n",
      "[[-2.45324350e-01  1.01086219e+00  1.41019156e-03 -7.13725801e-03\n",
      "  -1.44280523e+00]]\n"
     ]
    }
   ],
   "source": [
    "objp = np.zeros((np.prod(pattern_size), 3), np.float32)\n",
    "objp[:,:2] = np.mgrid[0:pattern_size[0],0:pattern_size[1]].T.reshape(-1,2)\n",
    "\n",
    "# Define arrays to store the object points and image points\n",
    "obj_points = [] # 3D points in real world space\n",
    "img_points = [] # 2D points in image plane\n",
    "gray = None\n",
    "\n",
    "# Read the chessboard images and collect the object points and image points\n",
    "images = glob.glob('Documentos/Faculdade/cv-class/cv2/imgs/*.png')\n",
    "for fname in images:\n",
    "    img = cv2.imread(fname)\n",
    "    gray = cv2.cvtColor(img, cv2.COLOR_BGR2GRAY)\n",
    "\n",
    "    ret, corners = cv2.findChessboardCorners(gray, pattern_size, None)\n",
    "\n",
    "    if ret:\n",
    "        obj_points.append(objp)\n",
    "        img_points.append(corners)\n",
    "\n",
    "# Calibrate the camera\n",
    "ret, mtx, dist, rvecs, tvecs = cv2.calibrateCamera(obj_points, img_points, gray.shape[::-1], None, None)\n",
    "\n",
    "# Print the camera matrix and distortion coefficients\n",
    "print('Camera Matrix:')\n",
    "print(mtx)\n",
    "print('Distortion Coefficients:')\n",
    "print(dist)"
   ]
  }
 ],
 "metadata": {
  "kernelspec": {
   "display_name": "Python 3 (ipykernel)",
   "language": "python",
   "name": "python3"
  },
  "language_info": {
   "codemirror_mode": {
    "name": "ipython",
    "version": 3
   },
   "file_extension": ".py",
   "mimetype": "text/x-python",
   "name": "python",
   "nbconvert_exporter": "python",
   "pygments_lexer": "ipython3",
   "version": "3.10.6"
  }
 },
 "nbformat": 4,
 "nbformat_minor": 5
}
