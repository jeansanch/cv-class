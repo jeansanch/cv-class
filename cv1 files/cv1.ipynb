{
 "cells": [
  {
   "cell_type": "code",
   "execution_count": 52,
   "id": "62e2866d-d69b-4c5b-a7fc-3954c86f3e91",
   "metadata": {
    "tags": []
   },
   "outputs": [],
   "source": [
    "import cv2\n",
    "import numpy as np"
   ]
  },
  {
   "cell_type": "code",
   "execution_count": 71,
   "id": "c0aac585-440d-4c3f-b7b9-c7df22b62c81",
   "metadata": {
    "tags": []
   },
   "outputs": [],
   "source": [
    "img_path = 'cv1/person.jpg'\n",
    "img = cv2.imread(img_path)\n",
    "img4harri = np.copy(img)"
   ]
  },
  {
   "cell_type": "code",
   "execution_count": 72,
   "id": "f23f68c4-7579-41cc-a3e7-86c2253889c9",
   "metadata": {
    "tags": []
   },
   "outputs": [],
   "source": [
    "gray = cv2.cvtColor(img, cv2.COLOR_BGR2GRAY)\n",
    "operatedImage = np.float32(gray)"
   ]
  },
  {
   "cell_type": "code",
   "execution_count": 73,
   "id": "aa426474-94ee-444b-9694-3ad30aead227",
   "metadata": {
    "tags": []
   },
   "outputs": [],
   "source": [
    "thresh_value = 100\n",
    "thresh1 = cv2.threshold(gray, thresh_value, 255, cv2.THRESH_BINARY)[1]\n",
    "thresh2 = cv2.threshold(gray, 200, 255, cv2.THRESH_BINARY)[1]"
   ]
  },
  {
   "cell_type": "code",
   "execution_count": 74,
   "id": "9be26556-d607-4a95-b9a4-da4edbfef21b",
   "metadata": {
    "tags": []
   },
   "outputs": [],
   "source": [
    "kernel_sharpen = np.array([[-1,-1,-1],[-1,9,-1],[-1,-1,-1]])\n",
    "kernel_blur = np.ones((5,5), np.float32)/25"
   ]
  },
  {
   "cell_type": "code",
   "execution_count": 75,
   "id": "4c7aca76-8dec-4fc4-8f76-0de04aa18074",
   "metadata": {
    "tags": []
   },
   "outputs": [],
   "source": [
    "img_sharpened = cv2.filter2D(img, -1, kernel_sharpen)\n",
    "img_blurred = cv2.filter2D(img, -1, kernel_blur)"
   ]
  },
  {
   "cell_type": "code",
   "execution_count": 76,
   "id": "928b771f-d766-41e0-a143-8bb856a9c041",
   "metadata": {
    "tags": []
   },
   "outputs": [],
   "source": [
    "dest = cv2.cornerHarris(operatedImage, 2, 5, 0.07)"
   ]
  },
  {
   "cell_type": "code",
   "execution_count": 77,
   "id": "a99fbcd6-3037-4471-846f-061a4f433576",
   "metadata": {
    "tags": []
   },
   "outputs": [],
   "source": [
    "threshold = 0.01 * dest.max()\n",
    "corner_mask = dest > threshold\n",
    "corner_coords = np.transpose(np.nonzero(corner_mask))"
   ]
  },
  {
   "cell_type": "code",
   "execution_count": 78,
   "id": "0bd2ab38-086f-4d74-aad4-0297afb19beb",
   "metadata": {
    "tags": []
   },
   "outputs": [],
   "source": [
    "radius = 10\n",
    "color = (0, 255, 0)\n",
    "thickness = 1\n",
    "for corner in corner_coords:\n",
    "    center = (corner[1], corner[0])\n",
    "    cv2.circle(img4harri, center, radius, color, thickness)"
   ]
  }
 ],
 "metadata": {
  "kernelspec": {
   "display_name": "Python 3 (ipykernel)",
   "language": "python",
   "name": "python3"
  },
  "language_info": {
   "codemirror_mode": {
    "name": "ipython",
    "version": 3
   },
   "file_extension": ".py",
   "mimetype": "text/x-python",
   "name": "python",
   "nbconvert_exporter": "python",
   "pygments_lexer": "ipython3",
   "version": "3.11.0"
  }
 },
 "nbformat": 4,
 "nbformat_minor": 5
}
